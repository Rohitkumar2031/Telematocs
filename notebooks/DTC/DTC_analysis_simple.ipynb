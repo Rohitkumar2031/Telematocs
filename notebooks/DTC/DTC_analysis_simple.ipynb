{
 "cells": [
  {
   "cell_type": "code",
   "execution_count": 1,
   "metadata": {
    "pycharm": {
     "is_executing": false
    }
   },
   "outputs": [],
   "source": [
    "import pandas as pd\n",
    "import json\n",
    "from pandas.io.json import json_normalize\n",
    "from functools import partial"
   ]
  },
  {
   "cell_type": "code",
   "execution_count": 2,
   "outputs": [],
   "source": [
    "def loader(mainDataDir , pcodeDataFile , deviceMappingDataFile):\n",
    "    # Read Main Data\n",
    "    import os\n",
    "    file_list = os.listdir(mainDataDir)\n",
    "    data_list = []\n",
    "    for file in file_list:\n",
    "        if not file.endswith(\".csv\"):\n",
    "            continue\n",
    "        data_list.append(pd.read_csv( os.path.join(mainDataDir , file) ) )\n",
    "    \n",
    "    ## Read and Load the pcode data\n",
    "    pcode_data = pd.read_csv(pcodeDataFile)\n",
    "    \n",
    "    # Read and Load device Mapping Data\n",
    "    deviceMapping = pd.read_csv(deviceMappingDataFile )\n",
    "    \n",
    "    return data_list , pcode_data , deviceMapping\n"
   ],
   "metadata": {
    "collapsed": false,
    "pycharm": {
     "name": "#%%\n",
     "is_executing": false
    }
   }
  },
  {
   "cell_type": "code",
   "execution_count": 3,
   "metadata": {
    "pycharm": {
     "is_executing": false
    }
   },
   "outputs": [],
   "source": [
    "def functionWrapper(loaderFunc=loader):\n",
    "    data_list , pcode_data  , deviceMapping = loaderFunc()\n",
    "    first = True\n",
    "    for i , df in enumerate(data_list):\n",
    "        if first:\n",
    "            first = False\n",
    "            real_columns = df.columns\n",
    "        try :\n",
    "            assert (df.columns == real_columns).all()\n",
    "        except Exception:\n",
    "            print(\"Problem\")\n",
    "        else:\n",
    "            print(\"No Problem Found\")\n",
    "\n",
    "    device_data = []\n",
    "    for df in data_list:\n",
    "        if not (df[\"type\"] == 'DTCA').any():\n",
    "            continue\n",
    "        df = df[df[\"type\"] == 'DTCA'].reset_index().drop(columns='index' , inplace=False)\n",
    "        temp_list = df.data.astype(str).to_list()\n",
    "        jsonDict = [json.loads(tem) for tem in temp_list ]\n",
    "        device_data.append(json_normalize(jsonDict, 'dtcasub' , ['id', 'date', 'type', 'deviceID', 'sequenceNo', 'latitude', 'longitude',\n",
    "                   'utc', 'numberOfFaultCodes']) )\n",
    "\n",
    "    pcode_data = pcode_data[[\"SPN \\n( Bosch Proposal )\"  , \"FMI\\n( Bosch Proposal )\"]]\n",
    "    pcode_data = pcode_data.rename(\n",
    "        columns = {\n",
    "            \"SPN \\n( Bosch Proposal )\":'spn' ,\n",
    "            \"FMI\\n( Bosch Proposal )\":'fmi'\n",
    "        }\n",
    "    )\n",
    "\n",
    "    for i , dat in enumerate(device_data):\n",
    "        device_data[i] = dat.merge(pcode_data , on=['spn' , 'fmi'])\n",
    "\n",
    "    complete_data = pd.concat(device_data)\n",
    "\n",
    "    x1 = deviceMapping[[\"Device IMEI\" , \"Vehicle VIN No\"]].to_dict()\n",
    "    x2 = deviceMapping[[\"Device IMEI\" , \"Customer\"]].to_dict()\n",
    "    x3 = deviceMapping[[\"Device IMEI\" , \"Fleet\"]].to_dict()\n",
    "    x4 = deviceMapping[[\"Device IMEI\" , \"Vehicle No Plate\"]].to_dict()\n",
    "    device2chassis = {a:b for a,b in zip(x1[\"Device IMEI\"].values() , x1[\"Vehicle VIN No\"].values())}\n",
    "    device2customer = {a:b for a,b in zip(x2[\"Device IMEI\"].values() , x2[\"Customer\"].values())}\n",
    "    device2fleet = {a:b for a,b in zip(x3[\"Device IMEI\"].values() , x3[\"Fleet\"].values())}\n",
    "    device2plate = {a:b for a,b in zip(x4[\"Device IMEI\"].values() , x4[\"Vehicle No Plate\"].values())}\n",
    "    def appFunc(deviceDict , x):\n",
    "        try:\n",
    "            fin = deviceDict[x]\n",
    "        except IndexError:\n",
    "            fin = None\n",
    "        return fin\n",
    "\n",
    "    complete_data[\"Vehicle VIN No\"] = None\n",
    "    complete_data[\"Vehicle VIN No\"] = complete_data.deviceID.apply(\n",
    "        lambda x : appFunc(device2chassis , int(x) )\n",
    "    )\n",
    "    complete_data[\"Customer\"] = None\n",
    "    complete_data[\"Customer\"] = complete_data.deviceID.apply(\n",
    "        lambda x : appFunc(device2customer , int(x))\n",
    "    )\n",
    "    complete_data[\"Fleet\"] = None\n",
    "    complete_data[\"Fleet\"] = complete_data.deviceID.apply(\n",
    "        lambda x : appFunc(device2fleet , int(x))\n",
    "    )\n",
    "    complete_data[\"Vehicle No Plate\"] = None\n",
    "    complete_data[\"Vehicle No Plate\"] = complete_data.deviceID.apply(\n",
    "        lambda x : appFunc(device2plate , int(x))\n",
    "    )\n",
    "    return complete_data"
   ]
  },
  {
   "cell_type": "code",
   "execution_count": null,
   "metadata": {
    "pycharm": {
     "name": "#%%\n",
     "is_executing": true
    }
   },
   "outputs": [
    {
     "name": "stdout",
     "text": [
      "No Problem Found\n"
     ],
     "output_type": "stream"
    }
   ],
   "source": [
    "\n",
    "loadingFunc = partial(\n",
    "    loader,\n",
    "    mainDataDir = \"/home/parth/Machine Learning/Datasets/North Corp/DTC/May/Raw\",\n",
    "    pcodeDataFile = \"/home/parth/Machine Learning/Datasets/North Corp/DTC/SPN_PCODE_Master.csv\",\n",
    "    deviceMappingDataFile = \"/home/parth/Machine Learning/Datasets/North Corp/DTC/Eicherlive -Device-Vehicle Mapping.csv\"\n",
    ")\n",
    "\n",
    "completeDataProcessed = functionWrapper(loadingFunc)\n",
    "\n",
    "dataDevice = { id_:completeDataProcessed[completeDataProcessed.deviceID == id_] \\\n",
    "               for id_ in completeDataProcessed.deviceID.unique()}\n",
    "\n",
    "for id_ , data in dataDevice.items():\n",
    "    saves = data.to_csv(\"Device{}.csv\".format(id_))\n",
    "\n",
    "#complete_data.to_csv(\"complete_aug.csv\")"
   ]
  },
  {
   "cell_type": "code",
   "execution_count": null,
   "outputs": [],
   "source": [
    "\n"
   ],
   "metadata": {
    "collapsed": false,
    "pycharm": {
     "name": "#%%\n"
    }
   }
  }
 ],
 "metadata": {
  "kernelspec": {
   "display_name": "Python 3",
   "language": "python",
   "name": "python3"
  },
  "language_info": {
   "codemirror_mode": {
    "name": "ipython",
    "version": 3
   },
   "file_extension": ".py",
   "mimetype": "text/x-python",
   "name": "python",
   "nbconvert_exporter": "python",
   "pygments_lexer": "ipython3",
   "version": "3.6.8"
  },
  "pycharm": {
   "stem_cell": {
    "cell_type": "raw",
    "source": [],
    "metadata": {
     "collapsed": false
    }
   }
  }
 },
 "nbformat": 4,
 "nbformat_minor": 2
}