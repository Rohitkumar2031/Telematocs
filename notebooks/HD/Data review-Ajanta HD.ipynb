{
 "cells": [
  {
   "cell_type": "code",
   "execution_count": 1,
   "metadata": {},
   "outputs": [],
   "source": [
    "import pandas as pd\n",
    "import numpy as np\n",
    "from geopy.geocoders import Nominatim\n",
    "geolocator = Nominatim(user_agent=\"NorthCorp\")\n",
    "import datetime\n",
    "import matplotlib.pyplot as plt\n",
    "import os"
   ]
  },
  {
   "cell_type": "code",
   "execution_count": 2,
   "metadata": {},
   "outputs": [
    {
     "name": "stderr",
     "output_type": "stream",
     "text": [
      "/usr/lib/python3/dist-packages/IPython/core/interactiveshell.py:2718: DtypeWarning: Columns (21) have mixed types. Specify dtype option on import or set low_memory=False.\n",
      "  interactivity=interactivity, compiler=compiler, result=result)\n"
     ]
    }
   ],
   "source": [
    "base_dir = r\"/home/parth/Machine Learning/Datasets/North Corp/Ajanta\"\n",
    "files = os.listdir(base_dir)\n",
    "files_corrected = []\n",
    "data = []\n",
    "first_one = True\n",
    "for file in files :\n",
    "    if file.endswith(\".csv\") :\n",
    "        files_corrected.append(file)\n",
    "        dat = pd.read_csv(os.path.join( \"/home/parth/Machine Learning/Datasets/North Corp/Ajanta\" , file))\n",
    "        if first_one :\n",
    "            columns = dat.columns\n",
    "        else :\n",
    "            assert  np.all(columns == dat.columns)\n",
    "        first_one = False\n",
    "        data.append(dat)\n",
    "        \n",
    "files = files_corrected\n",
    "del files_corrected"
   ]
  },
  {
   "cell_type": "code",
   "execution_count": 3,
   "metadata": {},
   "outputs": [],
   "source": [
    "for i in range(len(data)) :\n",
    "    data[i] = data[i].sort_values(\"updateddate\" , ascending=True)\n",
    "\n",
    "for i in range(len(data)) :\n",
    "    data[i][\"dateSeconds\"] = data[i][\"updateddate\"].apply(\n",
    "        lambda x: datetime.datetime.strptime(x , \"%Y-%m-%d %H:%M:%S\")).apply(\n",
    "        lambda x: (x - datetime.datetime(1970,1,1)).total_seconds() )"
   ]
  },
  {
   "cell_type": "code",
   "execution_count": 4,
   "metadata": {},
   "outputs": [],
   "source": [
    "for i in range(len(data)) :\n",
    "    previdletime = data[i].iloc[0][\"time_idle\"]\n",
    "    data[i][\"idleWastedFuel\"] = None\n",
    "    data[i][\"idleTimeDelta\"] = None\n",
    "    for row in range(1 , len(data[i])):\n",
    "        currentidletime = data[i].iloc[row][\"time_idle\"]\n",
    "        currentFuel = data[i].iloc[row][\"total_fuel_consumption\"]\n",
    "        if (currentidletime != previdletime):\n",
    "            if row != 0 :\n",
    "                data[i].at[row , \"idleWastedFuel\"] = abs ((currentFuel - prevFuel))\n",
    "                data[i].at[row  , \"idleTimeDelta\"] = abs(currentidletime - previdletime)\n",
    "            else :\n",
    "                data[i].at[row , \"idleWastedFuel\"] = 0\n",
    "        else:\n",
    "            data[i].at[row , \"idleWastedFuel\"] = 0\n",
    "        previdletime = currentidletime\n",
    "        prevFuel = currentFuel\n",
    "    data[i].at[0 , \"idleWastedFuel\"] = 0\n",
    "    data[i].at[0 , \"idleTimeDelta\"] = 0"
   ]
  },
  {
   "cell_type": "code",
   "execution_count": 5,
   "metadata": {},
   "outputs": [],
   "source": [
    "IdleCases = []\n",
    "\n",
    "for i in range(len(data)) :\n",
    "    IdleCases.append(data[i][data[i].speed == 0])\n",
    "    IdleCases[i] = IdleCases[i][IdleCases[i][\"idleWastedFuel\"] != 0]"
   ]
  },
  {
   "cell_type": "code",
   "execution_count": 6,
   "metadata": {},
   "outputs": [],
   "source": [
    "StopCases = []\n",
    "\n",
    "for i in range(len(data)) :\n",
    "    StopCases.append(data[i][data[i].speed == 0])\n",
    "    StopCases[i] = StopCases[i][StopCases[i][\"idleWastedFuel\"] == 0 ]\n",
    "    StopCases[i][\"stopTimeDelta\"] = 0\n",
    "    StopCases[i].drop(columns=[\"idleWastedFuel\" , \"idleTimeDelta\"] , inplace=True)\n",
    "    StopCases[i].stopTimeDelta = StopCases[i].dateSeconds.diff()\n",
    "    StopCases[i].at[0 , \"stopTimeDelta\"] = 0\n",
    "    StopCases[i][\"stopTimeDelta\"] = StopCases[i][\"stopTimeDelta\"] / 3600.0"
   ]
  },
  {
   "cell_type": "code",
   "execution_count": 7,
   "metadata": {},
   "outputs": [
    {
     "name": "stdout",
     "output_type": "stream",
     "text": [
      "Total Fuel Wasted CASE:0 : 1639.4899999999507 \n",
      "Total Fuel Wasted CASE:1 : 418.5200000000259 \n",
      "Total Fuel Wasted CASE:2 : 437.6900000000205 \n",
      "Total Fuel Wasted CASE:3 : 3744.7300000000578 \n",
      "Total Fuel Wasted CASE:4 : 422.1100000000697 \n",
      "Total Fuel Wasted CASE:5 : 8701.790000000015 \n"
     ]
    }
   ],
   "source": [
    "for i in range(len(data)) :\n",
    "    print(\"Total Fuel Wasted CASE:{} : {} \".format(i , sum(IdleCases[i][\"idleWastedFuel\"] )))"
   ]
  },
  {
   "cell_type": "code",
   "execution_count": 8,
   "metadata": {},
   "outputs": [],
   "source": [
    "for i in range(len(data)) :\n",
    "    IdleCases[i].to_csv(\"IdleCases-{}.csv\".format(files[i]))\n",
    "    StopCases[i].to_csv(\"StopCases-{}.csv\".format(files[i]))\n",
    "    data[i].to_csv(\"Full-Data-{}.csv\".format(files[i]))"
   ]
  },
  {
   "cell_type": "code",
   "execution_count": 9,
   "metadata": {},
   "outputs": [
    {
     "data": {
      "text/plain": [
       "Index(['Unnamed: 0', 'positionid', 'vehicleid', 'gtpdriverid', 'version',\n",
       "       'heading', 'latitude', 'longitude', 'altitude', 'address',\n",
       "       'updateddate', 'total_fuel_consumption', 'total_engine_hours',\n",
       "       'total_distance', 'time_sweetspot', 'time_idle', 'time_pto',\n",
       "       'time_drive', 'speed', 'msg_trigger_type', 'current_fuel_level',\n",
       "       'received_date', 'dateSeconds', 'idleWastedFuel', 'idleTimeDelta'],\n",
       "      dtype='object')"
      ]
     },
     "execution_count": 9,
     "metadata": {},
     "output_type": "execute_result"
    }
   ],
   "source": [
    "data[0].columns\n"
   ]
  },
  {
   "cell_type": "code",
   "execution_count": 10,
   "metadata": {},
   "outputs": [
    {
     "data": {
      "text/plain": [
       "0        367.30\n",
       "1        367.30\n",
       "2        367.30\n",
       "3        367.30\n",
       "4        367.30\n",
       "5        367.30\n",
       "6        367.30\n",
       "7        367.30\n",
       "8        367.30\n",
       "9        367.30\n",
       "10       367.30\n",
       "11       367.30\n",
       "12       367.30\n",
       "13       367.30\n",
       "14       367.30\n",
       "15       367.30\n",
       "16       367.30\n",
       "17       367.30\n",
       "18       367.30\n",
       "19       367.30\n",
       "20       367.30\n",
       "21       367.30\n",
       "22       367.30\n",
       "23       367.30\n",
       "24       367.30\n",
       "25       367.30\n",
       "26       367.30\n",
       "27       367.30\n",
       "28       367.30\n",
       "29       367.30\n",
       "          ...  \n",
       "42379    774.55\n",
       "42380    774.55\n",
       "42381    774.55\n",
       "42382    774.55\n",
       "42383    774.55\n",
       "42384    774.55\n",
       "42385    774.55\n",
       "42386    774.55\n",
       "42387    774.55\n",
       "42388    774.55\n",
       "42389    774.55\n",
       "42390    774.55\n",
       "42391    774.55\n",
       "42392    774.55\n",
       "42393    774.55\n",
       "42394    774.55\n",
       "42395    774.55\n",
       "42396    774.55\n",
       "42397    774.55\n",
       "42398    774.55\n",
       "42399    774.55\n",
       "42400    774.55\n",
       "42401    774.55\n",
       "42402    774.55\n",
       "42403    774.55\n",
       "42404    774.55\n",
       "42405    774.55\n",
       "42406    774.55\n",
       "42407    774.55\n",
       "42408    774.55\n",
       "Name: time_sweetspot, Length: 42409, dtype: float64"
      ]
     },
     "execution_count": 10,
     "metadata": {},
     "output_type": "execute_result"
    }
   ],
   "source": [
    "data[0][\"time_sweetspot\"]"
   ]
  },
  {
   "cell_type": "code",
   "execution_count": null,
   "metadata": {},
   "outputs": [],
   "source": []
  }
 ],
 "metadata": {
  "kernelspec": {
   "display_name": "Python 3",
   "language": "python",
   "name": "python3"
  },
  "language_info": {
   "codemirror_mode": {
    "name": "ipython",
    "version": 3
   },
   "file_extension": ".py",
   "mimetype": "text/x-python",
   "name": "python",
   "nbconvert_exporter": "python",
   "pygments_lexer": "ipython3",
   "version": "3.6.8"
  }
 },
 "nbformat": 4,
 "nbformat_minor": 2
}
